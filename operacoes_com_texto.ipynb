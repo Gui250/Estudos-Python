{
 "cells": [
  {
   "cell_type": "markdown",
   "id": "27836bef",
   "metadata": {},
   "source": [
    "# Operações com texto"
   ]
  },
  {
   "cell_type": "code",
   "execution_count": 1,
   "id": "f092f9f8",
   "metadata": {},
   "outputs": [
    {
     "name": "stdout",
     "output_type": "stream",
     "text": [
      "Meu nome é Boby\n"
     ]
    }
   ],
   "source": [
    "print(\"Meu nome é \" + \"Boby\")"
   ]
  },
  {
   "cell_type": "markdown",
   "id": "d4126b9f",
   "metadata": {},
   "source": [
    "# Verificando se um texto está contido dentro de outro"
   ]
  },
  {
   "cell_type": "code",
   "execution_count": 3,
   "id": "814c46a8",
   "metadata": {},
   "outputs": [
    {
     "name": "stdout",
     "output_type": "stream",
     "text": [
      "False\n",
      "True\n"
     ]
    }
   ],
   "source": [
    "print('Meu nome é' in 'Boby')\n",
    "print('B' in  'Boby')"
   ]
  }
 ],
 "metadata": {
  "kernelspec": {
   "display_name": "base",
   "language": "python",
   "name": "python3"
  },
  "language_info": {
   "codemirror_mode": {
    "name": "ipython",
    "version": 3
   },
   "file_extension": ".py",
   "mimetype": "text/x-python",
   "name": "python",
   "nbconvert_exporter": "python",
   "pygments_lexer": "ipython3",
   "version": "3.12.4"
  }
 },
 "nbformat": 4,
 "nbformat_minor": 5
}
