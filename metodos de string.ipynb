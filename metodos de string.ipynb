{
 "cells": [
  {
   "cell_type": "markdown",
   "id": "e62442cb",
   "metadata": {},
   "source": [
    "# Exercitando métodos de string"
   ]
  },
  {
   "cell_type": "code",
   "execution_count": 4,
   "id": "342e3fbf",
   "metadata": {},
   "outputs": [
    {
     "name": "stdout",
     "output_type": "stream",
     "text": [
      "faturamento da loja foi de 1000\n"
     ]
    }
   ],
   "source": [
    "faturamento = 1000\n",
    "texto = 'faturamento da loja foi de {}'\n",
    "print(texto.format(faturamento))"
   ]
  },
  {
   "cell_type": "markdown",
   "id": "e457ac64",
   "metadata": {},
   "source": [
    "<ul>\n",
    "    <li>capitalize() -> Coloca a 1 letra Maiúscula</li>\n",
    "</ul>"
   ]
  },
  {
   "cell_type": "code",
   "execution_count": null,
   "id": "8eb6c699",
   "metadata": {},
   "outputs": [],
   "source": [
    "texto = 'lira'\n",
    "print(texto.capitalize())"
   ]
  },
  {
   "cell_type": "markdown",
   "id": "122c96ff",
   "metadata": {},
   "source": [
    "<ul>\n",
    "    <li>count() -> Quantidade de vezes que um valor aparece na string</li>\n",
    "</ul>"
   ]
  },
  {
   "cell_type": "code",
   "execution_count": 5,
   "id": "e6f05a2d",
   "metadata": {},
   "outputs": [
    {
     "name": "stdout",
     "output_type": "stream",
     "text": [
      "1\n"
     ]
    }
   ],
   "source": [
    "texto = 'lira@yahoo.com.br'\n",
    "print(texto.count('@'))"
   ]
  },
  {
   "cell_type": "markdown",
   "id": "0be5d03b",
   "metadata": {},
   "source": [
    "<ul>\n",
    "    <li>endsWith() -> Verifica se uma string termina com o que foi passado como parâmetro</li>\n",
    "</ul>"
   ]
  },
  {
   "cell_type": "code",
   "execution_count": 6,
   "id": "e2d18f71",
   "metadata": {},
   "outputs": [
    {
     "name": "stdout",
     "output_type": "stream",
     "text": [
      "True\n"
     ]
    }
   ],
   "source": [
    "texto = 'lira@gmail.com'\n",
    "print(texto.endswith('gmail.com'))"
   ]
  },
  {
   "cell_type": "markdown",
   "id": "8ac69983",
   "metadata": {},
   "source": [
    "<ul>\n",
    "    <li>find() -> Procura um texto dentro de outro texto e devolve a posição como resposta</li>\n",
    "</ul>"
   ]
  },
  {
   "cell_type": "code",
   "execution_count": 7,
   "id": "c630c3c9",
   "metadata": {},
   "outputs": [
    {
     "name": "stdout",
     "output_type": "stream",
     "text": [
      "4\n"
     ]
    }
   ],
   "source": [
    "texto = 'lira@gmail.com'\n",
    "print(texto.find('@'))\n"
   ]
  },
  {
   "cell_type": "markdown",
   "id": "2c20e3ed",
   "metadata": {},
   "source": [
    "<ul>\n",
    "    <li>isalnum() - Verifica se a string é alfanumérica</li>\n",
    "</ul>"
   ]
  },
  {
   "cell_type": "code",
   "execution_count": 8,
   "id": "85e9748e",
   "metadata": {},
   "outputs": [
    {
     "name": "stdout",
     "output_type": "stream",
     "text": [
      "True\n"
     ]
    }
   ],
   "source": [
    "texto = 'João'\n",
    "print(texto.isalnum())"
   ]
  },
  {
   "cell_type": "markdown",
   "id": "c72aa267",
   "metadata": {},
   "source": [
    "<ul>\n",
    "    <li>isalpha() -> Verifica se o texto todo é feito de letras</li>\n",
    "</ul>"
   ]
  },
  {
   "cell_type": "code",
   "execution_count": null,
   "id": "f7cd9451",
   "metadata": {},
   "outputs": [
    {
     "name": "stdout",
     "output_type": "stream",
     "text": [
      "True\n"
     ]
    }
   ],
   "source": [
    "texto = \"João\"\n",
    "print(texto.isalpha())"
   ]
  },
  {
   "cell_type": "markdown",
   "id": "4abaed60",
   "metadata": {},
   "source": [
    "<ul>\n",
    "    <li>isnumeric() - Retorna True se todos os caracteres são numericos</li>\n",
    "</ul>"
   ]
  },
  {
   "cell_type": "code",
   "execution_count": null,
   "id": "9e3091df",
   "metadata": {},
   "outputs": [],
   "source": [
    "texto = '123'\n",
    "print(texto.isnumeric())"
   ]
  }
 ],
 "metadata": {
  "kernelspec": {
   "display_name": "base",
   "language": "python",
   "name": "python3"
  },
  "language_info": {
   "codemirror_mode": {
    "name": "ipython",
    "version": 3
   },
   "file_extension": ".py",
   "mimetype": "text/x-python",
   "name": "python",
   "nbconvert_exporter": "python",
   "pygments_lexer": "ipython3",
   "version": "3.12.4"
  }
 },
 "nbformat": 4,
 "nbformat_minor": 5
}
