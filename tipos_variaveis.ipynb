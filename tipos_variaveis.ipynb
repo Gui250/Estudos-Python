{
 "cells": [
  {
   "cell_type": "markdown",
   "id": "15207815",
   "metadata": {},
   "source": [
    "# Tipos de Variáveis em Python"
   ]
  },
  {
   "cell_type": "markdown",
   "id": "f97a6083",
   "metadata": {},
   "source": [
    "<p>Uma variável é um objeto, afinal tudo é um objeto em Python</p> <br/>\n",
    "<p>int -> inteiro</p> <br/>\n",
    "<p>string -> texto</p> <br/>\n",
    "<p>float -> números com casas decimais (ponto flutuante)/p> <br/>\n",
    "<p>bool ou boolean -> True ou False</p> <br/>\n",
    "\n",
    "<p>Obs: Variáveis em Python não declaradas explicitamente, mas isso não significa que você deve ficar mudando o tempo todo</p> <br/> \n",
    "\n",
    "<p>Obs2: Cuidado com os nomes restritos</p> <br/>"
   ]
  },
  {
   "cell_type": "code",
   "execution_count": 1,
   "id": "69399eb7",
   "metadata": {},
   "outputs": [
    {
     "data": {
      "text/plain": [
       "int"
      ]
     },
     "execution_count": 1,
     "metadata": {},
     "output_type": "execute_result"
    }
   ],
   "source": [
    "faturamento = 1000 \n",
    "type(faturamento)"
   ]
  },
  {
   "cell_type": "code",
   "execution_count": 2,
   "id": "fd1ab40f",
   "metadata": {},
   "outputs": [
    {
     "data": {
      "text/plain": [
       "float"
      ]
     },
     "execution_count": 2,
     "metadata": {},
     "output_type": "execute_result"
    }
   ],
   "source": [
    "faturamento = 1000.00\n",
    "type(faturamento)"
   ]
  },
  {
   "cell_type": "code",
   "execution_count": 3,
   "id": "1778a7f0",
   "metadata": {},
   "outputs": [
    {
     "data": {
      "text/plain": [
       "str"
      ]
     },
     "execution_count": 3,
     "metadata": {},
     "output_type": "execute_result"
    }
   ],
   "source": [
    "faturamento = '1.000'\n",
    "type(faturamento)"
   ]
  },
  {
   "cell_type": "code",
   "execution_count": 4,
   "id": "f2674c40",
   "metadata": {},
   "outputs": [
    {
     "data": {
      "text/plain": [
       "bool"
      ]
     },
     "execution_count": 4,
     "metadata": {},
     "output_type": "execute_result"
    }
   ],
   "source": [
    "ganha_bonus = True\n",
    "type(ganha_bonus)"
   ]
  }
 ],
 "metadata": {
  "kernelspec": {
   "display_name": "base",
   "language": "python",
   "name": "python3"
  },
  "language_info": {
   "codemirror_mode": {
    "name": "ipython",
    "version": 3
   },
   "file_extension": ".py",
   "mimetype": "text/x-python",
   "name": "python",
   "nbconvert_exporter": "python",
   "pygments_lexer": "ipython3",
   "version": "3.12.7"
  }
 },
 "nbformat": 4,
 "nbformat_minor": 5
}
