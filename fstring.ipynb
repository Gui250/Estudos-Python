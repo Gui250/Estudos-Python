{
 "cells": [
  {
   "cell_type": "code",
   "execution_count": null,
   "id": "548fd027",
   "metadata": {},
   "outputs": [],
   "source": [
    "faturamento = 1000\n",
    "custo = 500\n",
    "\n",
    "lucro = faturamento - custo\n",
    "\n",
    "# com format\n",
    "print(\"O faturamento foi de {} e o lucro de {}\".format(faturamento, lucro))\n",
    "\n",
    "# com f-string\n",
    "print(f'O faturamento foi de {faturamento} e o lucro de {lucro}')"
   ]
  },
  {
   "cell_type": "markdown",
   "id": "6ed60177",
   "metadata": {},
   "source": [
    "## Mudança de tipo de variável"
   ]
  },
  {
   "cell_type": "code",
   "execution_count": null,
   "id": "6de91e67",
   "metadata": {},
   "outputs": [],
   "source": [
    "faturamento = float(input(\"Insira o faturamento: \"))\n",
    "custo = float(input(\"Insira o custo: \"))\n",
    "\n",
    "lucro = faturamento - custo \n",
    "print(lucro)\n",
    "\n",
    "# str -> muda para string\n",
    "# int -> muda para inteiro\n",
    "# float -> muda para float"
   ]
  }
 ],
 "metadata": {
  "language_info": {
   "name": "python"
  }
 },
 "nbformat": 4,
 "nbformat_minor": 5
}
