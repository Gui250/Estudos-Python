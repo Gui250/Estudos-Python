{
 "cells": [
  {
   "cell_type": "code",
   "execution_count": null,
   "id": "095ab3eb",
   "metadata": {},
   "outputs": [],
   "source": [
    "email = 'lira@@gmail.com'\n",
    "nome = 'João Lira'\n",
    "\n",
    "print(email[:-1])"
   ]
  }
 ],
 "metadata": {
  "language_info": {
   "name": "python"
  }
 },
 "nbformat": 4,
 "nbformat_minor": 5
}
