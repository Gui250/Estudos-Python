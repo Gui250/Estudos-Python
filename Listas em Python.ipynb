{
 "cells": [
  {
   "cell_type": "markdown",
   "id": "c4f505ce",
   "metadata": {},
   "source": [
    "# Listas em Python\n",
    "\n",
    "<p>Estrutura:</p>\n",
    "\n",
    "<p>lista = [item1, item2, item3, ...]</p>\n",
    "\n",
    "<ul>\n",
    "    <li>Lista é um dos objetos mais importantes do Python, por isso vamos trabalhar bastante neles</li>\n",
    "    <li>Quando importamos uma base de dados para o Python, normalmente ele é lido como uma \"lista\" ou como alguma \"variação de lista\"</li>\n",
    "    <li>Listas em Python foram feitas para serem homogêneas, apesar de aceitarem valores heterogêneos</li>\n",
    "</ul>\n"
   ]
  },
  {
   "cell_type": "code",
   "execution_count": null,
   "id": "99967872",
   "metadata": {},
   "outputs": [],
   "source": [
    "produtos = ['tv', 'celular', 'mouse', 'teclado', 'tablet']"
   ]
  }
 ],
 "metadata": {
  "language_info": {
   "name": "python"
  }
 },
 "nbformat": 4,
 "nbformat_minor": 5
}
